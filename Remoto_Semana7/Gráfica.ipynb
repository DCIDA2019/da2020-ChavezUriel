{
 "cells": [
  {
   "cell_type": "code",
   "execution_count": 2,
   "metadata": {},
   "outputs": [],
   "source": [
    "import numpy as np\n",
    "import matplotlib.pyplot as plt\n",
    "\n",
    "from astroML.utils import pickle_results\n",
    "from astroML.datasets import fetch_sdss_specgals\n",
    "from astroML.correlation import bootstrap_two_point_angular\n",
    "\n",
    "from astroML.plotting import setup_text_plots\n",
    "setup_text_plots(fontsize=8, usetex=True)"
   ]
  },
  {
   "cell_type": "code",
   "execution_count": 3,
   "metadata": {},
   "outputs": [],
   "source": [
    "#Se obtienen datos de la librería\n",
    "data = fetch_sdss_specgals()"
   ]
  },
  {
   "cell_type": "code",
   "execution_count": 3,
   "metadata": {},
   "outputs": [],
   "source": [
    "#Cortes de datos\n",
    "Mmax = 17.7\n",
    "Zmin,Zmax=0.08,0.12 \n",
    "RAmin,RAmax=140,220\n",
    "DECmin,DECmax=5,45\n",
    "#redshift\n",
    "data=data[data['z'] < Zmax]\n",
    "data=data[data['z'] > Zmin]\n",
    "data=data[data['petroMag_r'] < Mmax]\n",
    "#right ascension\n",
    "data=data[data['ra'] < RAmax]\n",
    "data=data[data['ra'] > RAmin]\n",
    "#declinación\n",
    "data=data[data['dec'] < DECmax]\n",
    "data=data[data['dec'] > DECmin]"
   ]
  },
  {
   "cell_type": "code",
   "execution_count": 4,
   "metadata": {},
   "outputs": [
    {
     "name": "stdout",
     "output_type": "stream",
     "text": [
      "data size: 54900\n",
      "red gals: 38017\n",
      "blue gals: 16883\n"
     ]
    }
   ],
   "source": [
    "ur = data['modelMag_u'] - data['modelMag_r']\n",
    "\n",
    "#divide entre galaxias rojas y azules\n",
    "flag_red = (ur > 2.22)\n",
    "flag_blue = ~flag_red\n",
    "data_red = data[flag_red]\n",
    "data_blue = data[flag_blue]\n",
    "\n",
    "#Imprime tamaños de arreglo de datos y tamaño de las divisiones de azules y rojas\n",
    "print(\"data size:\", len(data))\n",
    "print(\"red gals:\", len(data_red))\n",
    "print(\"blue gals:\", len(data_blue))"
   ]
  },
  {
   "cell_type": "code",
   "execution_count": 5,
   "metadata": {},
   "outputs": [],
   "source": [
    "#Creamos una función para el cálculo de la correlación\n",
    "@pickle_results(\"correlation_functions.pkl\")\n",
    "def compute_results(Nbins=16, Nbootstraps=1,  method='landy-szalay', rseed=0):\n",
    "    np.random.seed(rseed)\n",
    "    bins = 10 ** np.linspace(np.log10(1. / 60.), np.log10(6), 16)\n",
    "\n",
    "    results = [bins]\n",
    "    for D in [data_red, data_blue]:\n",
    "        results += bootstrap_two_point_angular(D['ra'],D['dec'],bins=bins,method=method,Nbootstraps=Nbootstraps)\n",
    "\n",
    "    return results"
   ]
  },
  {
   "cell_type": "code",
   "execution_count": 6,
   "metadata": {},
   "outputs": [
    {
     "name": "stdout",
     "output_type": "stream",
     "text": [
      "@pickle_results: using precomputed results from 'correlation_functions.pkl'\n"
     ]
    }
   ],
   "source": [
    "#Se guardan los datos en arreglos\n",
    "(bins, r_corr, r_corr_err, r_bootstraps,\n",
    " b_corr, b_corr_err, b_bootstraps) = compute_results()\n",
    "#Se calcula el centro de los bins\n",
    "bin_centers = 0.5 * (bins[1:] + bins[:-1])"
   ]
  },
  {
   "cell_type": "code",
   "execution_count": 7,
   "metadata": {},
   "outputs": [],
   "source": [
    "#Se grafican los resultados\n",
    "corr = [r_corr, b_corr]\n",
    "#no regresa valores de error de correlación\n",
    "corr_err = [r_corr_err, b_corr_err]\n",
    "bootstraps = [r_bootstraps, b_bootstraps]\n",
    "labels = ['$u-r > 2.22$\\n$N=%i$' % len(data_red),\n",
    "          '$u-r < 2.22$\\n$N=%i$' % len(data_blue)]"
   ]
  },
  {
   "cell_type": "code",
   "execution_count": 10,
   "metadata": {},
   "outputs": [
    {
     "data": {
      "image/png": "[encoded data removed]",
      "text/plain": [
       "<Figure size 360x180 with 2 Axes>"
      ]
     },
     "metadata": {
      "needs_background": "light"
     },
     "output_type": "display_data"
    }
   ],
   "source": [
    "fig = plt.figure(figsize=(5, 2.5))\n",
    "fig.subplots_adjust(bottom=0.2, top=0.9,\n",
    "                    left=0.13, right=0.95)\n",
    "for i in range(2):\n",
    "    ax = fig.add_subplot(121 + i, xscale='log', yscale='log')\n",
    "\n",
    "    ax.errorbar(bin_centers, corr[i], corr_err[i],\n",
    "                fmt='.k', ecolor='red', lw=5)\n",
    "\n",
    "    t = np.array([0.01, 10])\n",
    "    ax.plot(t, 10 * (t / 0.01) ** -0.8, ':k', linewidth=1)\n",
    "\n",
    "    ax.text(0.95, 0.95, labels[i],\n",
    "            ha='right', va='top', transform=ax.transAxes)\n",
    "    ax.set_xlabel(r'$\\theta\\ (deg)$')\n",
    "    if i == 0:\n",
    "        ax.set_ylabel(r'$\\hat{w}(\\theta)$')\n",
    "\n",
    "plt.savefig(\"figura.png\")\n",
    "plt.show()\n"
   ]
  },
  {
   "cell_type": "code",
   "execution_count": null,
   "metadata": {},
   "outputs": [],
   "source": []
  },
  {
   "cell_type": "code",
   "execution_count": null,
   "metadata": {},
   "outputs": [],
   "source": []
  }
 ],
 "metadata": {
  "kernelspec": {
   "display_name": "Python 3",
   "language": "python",
   "name": "python3"
  },
  "language_info": {
   "codemirror_mode": {
    "name": "ipython",
    "version": 3
   },
   "file_extension": ".py",
   "mimetype": "text/x-python",
   "name": "python",
   "nbconvert_exporter": "python",
   "pygments_lexer": "ipython3",
   "version": "3.7.6"
  }
 },
 "nbformat": 4,
 "nbformat_minor": 4
}
