{
 "cells": [
  {
   "cell_type": "code",
   "execution_count": 1,
   "metadata": {},
   "outputs": [],
   "source": [
    "import numpy as np\n",
    "import matplotlib.pyplot as plt\n",
    "from time import time\n",
    "\n",
    "def count_elapsed_time(f):\n",
    "    \n",
    "    def wrapper():\n",
    "        # Start counting.\n",
    "        start_time = time()\n",
    "        # Take the original function's return value.\n",
    "        ret = f()\n",
    "        # Calculate the elapsed time.\n",
    "        elapsed_time = time() - start_time\n",
    "        print(\"Tiempo de ejecución: %0.10f segundos.\" % elapsed_time)\n",
    "        return ret\n",
    "    \n",
    "    return wrapper\n"
   ]
  },
  {
   "cell_type": "code",
   "execution_count": 2,
   "metadata": {},
   "outputs": [
    {
     "name": "stdout",
     "output_type": "stream",
     "text": [
      "Tiempo de ejecución: 0.0045995712 segundos.\n"
     ]
    }
   ],
   "source": [
    "@count_elapsed_time\n",
    "\n",
    "def pendulo():\n",
    "    veli=2.0  #condiciones iniciales\n",
    "    posi=0.0\n",
    "\n",
    "    w0=3.0  #frecuencia angular=sqrt(g/l)\n",
    "\n",
    "    it=1000  #número de iteraciones\n",
    "    ti=0.0  #tiempo inicial\n",
    "    tf=10.0  #tiempo final\n",
    "    h=(tf-ti)/(it+1)  #tamaño de paso\n",
    "\n",
    "    pos=np.zeros(it)  #arreglo para guardar posición\n",
    "    vel=np.zeros(it)  #arreglo para guardar velocidad\n",
    "    posreal=np.zeros(it)\n",
    "    velreal=np.zeros(it)\n",
    "\n",
    "    t=np.zeros(it)\n",
    "\n",
    "    pos[0]=posi  #aplicación de condiciones iniciales\n",
    "    vel[0]=veli\n",
    "    posreal[0]=posi\n",
    "    velreal[0]=veli\n",
    "\n",
    "    for i in range(0,it-1):\n",
    "        pos[i+1]=pos[i]+h*vel[i]\n",
    "        vel[i+1]=vel[i]+h*(-w0**2*pos[i])\n",
    "        t[i+1]=t[i]+h\n",
    "        posreal[i+1]=2/w0*np.sin(w0*t[i+1])\n",
    "        velreal[i+1]=2*np.cos(w0*t[i+1])\n",
    "        \n",
    "pendulo()\n"
   ]
  },
  {
   "cell_type": "code",
   "execution_count": null,
   "metadata": {},
   "outputs": [],
   "source": []
  },
  {
   "cell_type": "code",
   "execution_count": null,
   "metadata": {},
   "outputs": [],
   "source": []
  },
  {
   "cell_type": "code",
   "execution_count": null,
   "metadata": {},
   "outputs": [],
   "source": []
  }
 ],
 "metadata": {
  "kernelspec": {
   "display_name": "Python 3",
   "language": "python",
   "name": "python3"
  },
  "language_info": {
   "codemirror_mode": {
    "name": "ipython",
    "version": 3
   },
   "file_extension": ".py",
   "mimetype": "text/x-python",
   "name": "python",
   "nbconvert_exporter": "python",
   "pygments_lexer": "ipython3",
   "version": "3.7.4"
  }
 },
 "nbformat": 4,
 "nbformat_minor": 4
}
