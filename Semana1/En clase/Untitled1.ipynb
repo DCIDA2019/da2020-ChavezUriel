{
 "cells": [
  {
   "cell_type": "code",
   "execution_count": 8,
   "metadata": {},
   "outputs": [
    {
     "name": "stdout",
     "output_type": "stream",
     "text": [
      "Populating the interactive namespace from numpy and matplotlib\n"
     ]
    }
   ],
   "source": [
    "import numpy as np\n",
    "import matplotlib.pyplot as plt\n",
    "%pylab inline\n",
    "pi=3.1416"
   ]
  },
  {
   "cell_type": "code",
   "execution_count": 36,
   "metadata": {},
   "outputs": [],
   "source": [
    "a=0.\n",
    "b=20.\n",
    "it=50\n",
    "h=(b-a)/50\n",
    "omega0=3.\n",
    "pinicial=pi/24\n",
    "vinicial=0.\n",
    "\n",
    "#tiempo, posición y velocidad iniciales\n",
    "t=a;\n",
    "theta=pinicial\n",
    "v=vinicial\n",
    "arrpos=np.zeros(it)\n",
    "T=np.zeros(it)\n"
   ]
  },
  {
   "cell_type": "code",
   "execution_count": 37,
   "metadata": {},
   "outputs": [],
   "source": [
    "for i in range (1,it):\n",
    "    theta+=h*(-omega0**2*theta)\n",
    "    v+=h*v\n",
    "    arrpos[i]=theta\n",
    "    t+=h*i\n",
    "    T[i]=t"
   ]
  },
  {
   "cell_type": "code",
   "execution_count": 38,
   "metadata": {},
   "outputs": [
    {
     "data": {
      "text/plain": [
       "array([0.000e+00, 4.000e-01, 1.200e+00, 2.400e+00, 4.000e+00, 6.000e+00,\n",
       "       8.400e+00, 1.120e+01, 1.440e+01, 1.800e+01, 2.200e+01, 2.640e+01,\n",
       "       3.120e+01, 3.640e+01, 4.200e+01, 4.800e+01, 5.440e+01, 6.120e+01,\n",
       "       6.840e+01, 7.600e+01, 8.400e+01, 9.240e+01, 1.012e+02, 1.104e+02,\n",
       "       1.200e+02, 1.300e+02, 1.404e+02, 1.512e+02, 1.624e+02, 1.740e+02,\n",
       "       1.860e+02, 1.984e+02, 2.112e+02, 2.244e+02, 2.380e+02, 2.520e+02,\n",
       "       2.664e+02, 2.812e+02, 2.964e+02, 3.120e+02, 3.280e+02, 3.444e+02,\n",
       "       3.612e+02, 3.784e+02, 3.960e+02, 4.140e+02, 4.324e+02, 4.512e+02,\n",
       "       4.704e+02, 4.900e+02])"
      ]
     },
     "execution_count": 38,
     "metadata": {},
     "output_type": "execute_result"
    }
   ],
   "source": [
    "T"
   ]
  },
  {
   "cell_type": "code",
   "execution_count": 42,
   "metadata": {},
   "outputs": [
    {
     "data": {
      "text/plain": [
       "array([ 0.00000000e+00, -3.40340000e-01,  8.84884000e-01, -2.30069840e+00,\n",
       "        5.98181584e+00, -1.55527212e+01,  4.04370751e+01, -1.05136395e+02,\n",
       "        2.73354628e+02, -7.10722032e+02,  1.84787728e+03, -4.80448093e+03,\n",
       "        1.24916504e+04, -3.24782911e+04,  8.44435569e+04, -2.19553248e+05,\n",
       "        5.70838445e+05, -1.48417996e+06,  3.85886789e+06, -1.00330565e+07,\n",
       "        2.60859469e+07, -6.78234619e+07,  1.76341001e+08, -4.58486603e+08,\n",
       "        1.19206517e+09, -3.09936943e+09,  8.05836053e+09, -2.09517374e+10,\n",
       "        5.44745172e+10, -1.41633745e+11,  3.68247736e+11, -9.57444114e+11,\n",
       "        2.48935470e+12, -6.47232221e+12,  1.68280377e+13, -4.37528981e+13,\n",
       "        1.13757535e+14, -2.95769591e+14,  7.69000938e+14, -1.99940244e+15,\n",
       "        5.19844634e+15, -1.35159605e+16,  3.51414973e+16, -9.13678929e+16,\n",
       "        2.37556521e+17, -6.17646956e+17,  1.60588209e+18, -4.17529342e+18,\n",
       "        1.08557629e+19, -2.82249835e+19])"
      ]
     },
     "execution_count": 42,
     "metadata": {},
     "output_type": "execute_result"
    }
   ],
   "source": [
    "arrpos"
   ]
  },
  {
   "cell_type": "code",
   "execution_count": 44,
   "metadata": {},
   "outputs": [
    {
     "data": {
      "text/plain": [
       "[<matplotlib.lines.Line2D at 0x7feff6185310>]"
      ]
     },
     "execution_count": 44,
     "metadata": {},
     "output_type": "execute_result"
    },
    {
     "data": {
      "image/png": "[encoded data removed]",
      "text/plain": [
       "<Figure size 432x288 with 1 Axes>"
      ]
     },
     "metadata": {},
     "output_type": "display_data"
    }
   ],
   "source": [
    "plt.plot(T,arrpos)"
   ]
  },
  {
   "cell_type": "code",
   "execution_count": 45,
   "metadata": {},
   "outputs": [
    {
     "ename": "NameError",
     "evalue": "name 'v' is not defined",
     "output_type": "error",
     "traceback": [
      "\u001b[0;31m-----------------------------------------\u001b[0m",
      "\u001b[0;31mNameError\u001b[0mTraceback (most recent call last)",
      "\u001b[0;32m<ipython-input-45-7fd02fe2c78e>\u001b[0m in \u001b[0;36m<module>\u001b[0;34m()\u001b[0m\n\u001b[0;32m----> 1\u001b[0;31m \u001b[0mplt\u001b[0m\u001b[0;34m.\u001b[0m\u001b[0mplot\u001b[0m\u001b[0;34m(\u001b[0m\u001b[0mT\u001b[0m\u001b[0;34m,\u001b[0m\u001b[0mv\u001b[0m\u001b[0;34m)\u001b[0m\u001b[0;34m\u001b[0m\u001b[0;34m\u001b[0m\u001b[0m\n\u001b[0m",
      "\u001b[0;31mNameError\u001b[0m: name 'v' is not defined"
     ]
    }
   ],
   "source": [
    "plt.plot(T,v)"
   ]
  },
  {
   "cell_type": "code",
   "execution_count": null,
   "metadata": {},
   "outputs": [],
   "source": []
  }
 ],
 "metadata": {
  "kernelspec": {
   "display_name": "Python 3",
   "language": "python",
   "name": "python3"
  },
  "language_info": {
   "codemirror_mode": {
    "name": "ipython",
    "version": 3
   },
   "file_extension": ".py",
   "mimetype": "text/x-python",
   "name": "python",
   "nbconvert_exporter": "python",
   "pygments_lexer": "ipython3",
   "version": "3.7.4"
  }
 },
 "nbformat": 4,
 "nbformat_minor": 2
}
