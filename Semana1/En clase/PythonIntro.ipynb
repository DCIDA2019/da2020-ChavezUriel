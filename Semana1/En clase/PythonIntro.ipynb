{
 "cells": [
  {
   "cell_type": "code",
   "execution_count": 4,
   "metadata": {},
   "outputs": [
    {
     "name": "stdout",
     "output_type": "stream",
     "text": [
      "Populating the interactive namespace from numpy and matplotlib\n"
     ]
    }
   ],
   "source": [
    "import numpy as np\n",
    "import matplotlib.pyplot as plt\n",
    "%pylab inline"
   ]
  },
  {
   "cell_type": "code",
   "execution_count": 26,
   "metadata": {},
   "outputs": [],
   "source": [
    "a=3\n",
    "b=4\n",
    "c=a*b\n",
    "mensaje=\"Hola\"\n",
    "mensaje2=\"Hola2\""
   ]
  },
  {
   "cell_type": "code",
   "execution_count": 27,
   "metadata": {},
   "outputs": [
    {
     "data": {
      "text/plain": [
       "'Hola Hola2'"
      ]
     },
     "execution_count": 27,
     "metadata": {},
     "output_type": "execute_result"
    }
   ],
   "source": [
    "mensaje+' '+mensaje2"
   ]
  },
  {
   "cell_type": "code",
   "execution_count": 31,
   "metadata": {},
   "outputs": [
    {
     "name": "stdout",
     "output_type": "stream",
     "text": [
      "9\n"
     ]
    },
    {
     "data": {
      "text/plain": [
       "9"
      ]
     },
     "execution_count": 31,
     "metadata": {},
     "output_type": "execute_result"
    }
   ],
   "source": [
    "print(3**2)\n",
    "np.power(3,2)"
   ]
  },
  {
   "cell_type": "code",
   "execution_count": 16,
   "metadata": {},
   "outputs": [],
   "source": [
    "a=a*2."
   ]
  },
  {
   "cell_type": "code",
   "execution_count": 17,
   "metadata": {},
   "outputs": [
    {
     "data": {
      "text/plain": [
       "float"
      ]
     },
     "execution_count": 17,
     "metadata": {},
     "output_type": "execute_result"
    }
   ],
   "source": [
    "type(a)"
   ]
  },
  {
   "cell_type": "code",
   "execution_count": 33,
   "metadata": {},
   "outputs": [],
   "source": [
    "lista=[1,2,3,\"aa\",112,1.2]"
   ]
  },
  {
   "cell_type": "code",
   "execution_count": 34,
   "metadata": {},
   "outputs": [
    {
     "data": {
      "text/plain": [
       "[1, 2, 3, 'aa', 112, 1.2]"
      ]
     },
     "execution_count": 34,
     "metadata": {},
     "output_type": "execute_result"
    }
   ],
   "source": [
    "lista"
   ]
  },
  {
   "cell_type": "code",
   "execution_count": 39,
   "metadata": {},
   "outputs": [],
   "source": [
    "arreglo=np.asarray([1.2,3.122],dtype=int)"
   ]
  },
  {
   "cell_type": "code",
   "execution_count": 40,
   "metadata": {},
   "outputs": [
    {
     "data": {
      "text/plain": [
       "array([1, 3])"
      ]
     },
     "execution_count": 40,
     "metadata": {},
     "output_type": "execute_result"
    }
   ],
   "source": [
    "arreglo"
   ]
  },
  {
   "cell_type": "code",
   "execution_count": 41,
   "metadata": {},
   "outputs": [
    {
     "data": {
      "text/plain": [
       "numpy.ndarray"
      ]
     },
     "execution_count": 41,
     "metadata": {},
     "output_type": "execute_result"
    }
   ],
   "source": [
    "type(arreglo)"
   ]
  },
  {
   "cell_type": "code",
   "execution_count": 42,
   "metadata": {},
   "outputs": [
    {
     "data": {
      "text/plain": [
       "numpy.int64"
      ]
     },
     "execution_count": 42,
     "metadata": {},
     "output_type": "execute_result"
    }
   ],
   "source": [
    "type(arreglo[0])"
   ]
  },
  {
   "cell_type": "code",
   "execution_count": 44,
   "metadata": {},
   "outputs": [
    {
     "data": {
      "text/plain": [
       "array([0., 0., 0., 0., 0., 0., 0., 0., 0., 0.])"
      ]
     },
     "execution_count": 44,
     "metadata": {},
     "output_type": "execute_result"
    }
   ],
   "source": [
    "zeros_=np.zeros(10)\n",
    "zeros_"
   ]
  },
  {
   "cell_type": "code",
   "execution_count": 45,
   "metadata": {},
   "outputs": [
    {
     "data": {
      "text/plain": [
       "array([1., 1., 1., 1., 1., 1., 1., 1., 1., 1.])"
      ]
     },
     "execution_count": 45,
     "metadata": {},
     "output_type": "execute_result"
    }
   ],
   "source": [
    "ones_=np.ones(10)\n",
    "ones_"
   ]
  },
  {
   "cell_type": "code",
   "execution_count": 46,
   "metadata": {},
   "outputs": [
    {
     "data": {
      "text/plain": [
       "array([0., 0., 0., 0., 0., 0., 0., 0., 0., 0.])"
      ]
     },
     "execution_count": 46,
     "metadata": {},
     "output_type": "execute_result"
    }
   ],
   "source": [
    "ones_*zeros_"
   ]
  },
  {
   "cell_type": "code",
   "execution_count": 47,
   "metadata": {},
   "outputs": [
    {
     "data": {
      "text/plain": [
       "array([1., 1., 1., 1., 1., 1., 1., 1., 1., 1.])"
      ]
     },
     "execution_count": 47,
     "metadata": {},
     "output_type": "execute_result"
    }
   ],
   "source": [
    "ones_+zeros_"
   ]
  },
  {
   "cell_type": "code",
   "execution_count": 51,
   "metadata": {},
   "outputs": [
    {
     "name": "stdout",
     "output_type": "stream",
     "text": [
      "[1. 1. 1. 1. 1. 1. 1. 1. 1. 1.]\n"
     ]
    }
   ],
   "source": [
    "for i in range(10):\n",
    "    ones_2[i]=zeros_[i]+1\n",
    "    \n",
    "print(ones_2)"
   ]
  },
  {
   "cell_type": "code",
   "execution_count": 74,
   "metadata": {},
   "outputs": [
    {
     "name": "stdout",
     "output_type": "stream",
     "text": [
      "[-5.         -4.58333333 -4.16666667 -3.75       -3.33333333 -2.91666667\n",
      " -2.5        -2.08333333 -1.66666667 -1.25       -0.83333333 -0.41666667\n",
      "  0.          0.41666667  0.83333333  1.25        1.66666667  2.08333333\n",
      "  2.5         2.91666667  3.33333333  3.75        4.16666667  4.58333333\n",
      "  5.        ]\n"
     ]
    },
    {
     "data": {
      "text/plain": [
       "25"
      ]
     },
     "execution_count": 74,
     "metadata": {},
     "output_type": "execute_result"
    }
   ],
   "source": [
    "x=np.linspace(-5,5,25)\n",
    "x2=np.linspace(-5,5,40)\n",
    "print(x2)\n",
    "len(x2)"
   ]
  },
  {
   "cell_type": "code",
   "execution_count": 70,
   "metadata": {},
   "outputs": [
    {
     "name": "stdout",
     "output_type": "stream",
     "text": [
      "[-5.   -4.75 -4.5  -4.25 -4.   -3.75 -3.5  -3.25 -3.   -2.75 -2.5  -2.25\n",
      " -2.   -1.75 -1.5  -1.25 -1.   -0.75 -0.5  -0.25  0.    0.25  0.5   0.75\n",
      "  1.    1.25  1.5   1.75  2.    2.25  2.5   2.75  3.    3.25  3.5   3.75\n",
      "  4.    4.25  4.5   4.75]\n"
     ]
    },
    {
     "data": {
      "text/plain": [
       "40"
      ]
     },
     "execution_count": 70,
     "metadata": {},
     "output_type": "execute_result"
    }
   ],
   "source": [
    "y=np.arange(-5,5,0.25)\n",
    "print(y)\n",
    "len(y)"
   ]
  },
  {
   "cell_type": "code",
   "execution_count": 75,
   "metadata": {},
   "outputs": [
    {
     "name": "stdout",
     "output_type": "stream",
     "text": [
      "CPU times: user 12 µs, sys: 3 µs, total: 15 µs\n",
      "Wall time: 16.9 µs\n"
     ]
    },
    {
     "data": {
      "text/plain": [
       "array([25.        , 21.00694444, 17.36111111, 14.0625    , 11.11111111,\n",
       "        8.50694444,  6.25      ,  4.34027778,  2.77777778,  1.5625    ,\n",
       "        0.69444444,  0.17361111,  0.        ,  0.17361111,  0.69444444,\n",
       "        1.5625    ,  2.77777778,  4.34027778,  6.25      ,  8.50694444,\n",
       "       11.11111111, 14.0625    , 17.36111111, 21.00694444, 25.        ])"
      ]
     },
     "execution_count": 75,
     "metadata": {},
     "output_type": "execute_result"
    }
   ],
   "source": [
    "%time x*x"
   ]
  },
  {
   "cell_type": "code",
   "execution_count": 77,
   "metadata": {},
   "outputs": [
    {
     "name": "stdout",
     "output_type": "stream",
     "text": [
      "CPU times: user 13 µs, sys: 3 µs, total: 16 µs\n",
      "Wall time: 17.9 µs\n"
     ]
    },
    {
     "data": {
      "text/plain": [
       "array([25.        , 21.00694444, 17.36111111, 14.0625    , 11.11111111,\n",
       "        8.50694444,  6.25      ,  4.34027778,  2.77777778,  1.5625    ,\n",
       "        0.69444444,  0.17361111,  0.        ,  0.17361111,  0.69444444,\n",
       "        1.5625    ,  2.77777778,  4.34027778,  6.25      ,  8.50694444,\n",
       "       11.11111111, 14.0625    , 17.36111111, 21.00694444, 25.        ])"
      ]
     },
     "execution_count": 77,
     "metadata": {},
     "output_type": "execute_result"
    }
   ],
   "source": [
    "%time x**2"
   ]
  },
  {
   "cell_type": "code",
   "execution_count": 78,
   "metadata": {},
   "outputs": [
    {
     "name": "stdout",
     "output_type": "stream",
     "text": [
      "CPU times: user 20 µs, sys: 5 µs, total: 25 µs\n",
      "Wall time: 27.7 µs\n"
     ]
    },
    {
     "data": {
      "text/plain": [
       "array([-4.88281250e+07, -1.87497671e+07, -6.57167899e+06, -2.06226250e+06,\n",
       "       -5.64502927e+05, -1.29943566e+05, -2.38418579e+04, -3.20882763e+03,\n",
       "       -2.75636195e+02, -1.16415322e+01, -1.34587986e-01, -6.57167899e-05,\n",
       "        0.00000000e+00,  6.57167899e-05,  1.34587986e-01,  1.16415322e+01,\n",
       "        2.75636195e+02,  3.20882763e+03,  2.38418579e+04,  1.29943566e+05,\n",
       "        5.64502927e+05,  2.06226250e+06,  6.57167899e+06,  1.87497671e+07,\n",
       "        4.88281250e+07])"
      ]
     },
     "execution_count": 78,
     "metadata": {},
     "output_type": "execute_result"
    }
   ],
   "source": [
    "%time x*x*x*x*x*x*x*x*x*x*x"
   ]
  },
  {
   "cell_type": "code",
   "execution_count": 79,
   "metadata": {},
   "outputs": [
    {
     "name": "stdout",
     "output_type": "stream",
     "text": [
      "CPU times: user 23 µs, sys: 6 µs, total: 29 µs\n",
      "Wall time: 31.2 µs\n"
     ]
    },
    {
     "data": {
      "text/plain": [
       "array([-4.88281250e+07, -1.87497671e+07, -6.57167899e+06, -2.06226250e+06,\n",
       "       -5.64502927e+05, -1.29943566e+05, -2.38418579e+04, -3.20882763e+03,\n",
       "       -2.75636195e+02, -1.16415322e+01, -1.34587986e-01, -6.57167899e-05,\n",
       "        0.00000000e+00,  6.57167899e-05,  1.34587986e-01,  1.16415322e+01,\n",
       "        2.75636195e+02,  3.20882763e+03,  2.38418579e+04,  1.29943566e+05,\n",
       "        5.64502927e+05,  2.06226250e+06,  6.57167899e+06,  1.87497671e+07,\n",
       "        4.88281250e+07])"
      ]
     },
     "execution_count": 79,
     "metadata": {},
     "output_type": "execute_result"
    }
   ],
   "source": [
    "%time x**11"
   ]
  },
  {
   "cell_type": "code",
   "execution_count": 80,
   "metadata": {},
   "outputs": [],
   "source": [
    "#funciones"
   ]
  },
  {
   "cell_type": "code",
   "execution_count": 89,
   "metadata": {},
   "outputs": [],
   "source": [
    "fx=lambda x,y: np.cos(x)*np.sqrt(np.abs(y))"
   ]
  },
  {
   "cell_type": "code",
   "execution_count": 90,
   "metadata": {},
   "outputs": [
    {
     "data": {
      "text/plain": [
       "<function __main__.<lambda>(x, y)>"
      ]
     },
     "execution_count": 90,
     "metadata": {},
     "output_type": "execute_result"
    }
   ],
   "source": [
    "fx"
   ]
  },
  {
   "cell_type": "code",
   "execution_count": 91,
   "metadata": {},
   "outputs": [
    {
     "data": {
      "text/plain": [
       "array([ 0.63428793,  0.06798945, -0.47371326, -0.95494276, -1.34566365,\n",
       "       -1.6236593 , -1.77588875, -1.79913817, -1.69993385, -1.49373797,\n",
       "       -1.20350097, -0.85769089, -0.48795918, -0.12663035,  0.19577694,\n",
       "        0.45277447,  0.62361645,  0.69410449,  0.65544755,  0.49589649,\n",
       "        0.        ,  0.4634714 ,  0.56673394,  0.54006769,  0.4049738 ,\n",
       "        0.17871908, -0.11723692, -0.45644402, -0.80863873, -1.14174126,\n",
       "       -1.42422328, -1.62756275, -1.72855604, -1.71128922, -1.56860391,\n",
       "       -1.30293323, -0.92643056, -0.46036653,  0.06617608,  0.6182274 ])"
      ]
     },
     "execution_count": 91,
     "metadata": {},
     "output_type": "execute_result"
    }
   ],
   "source": [
    "fx(x2,y)"
   ]
  },
  {
   "cell_type": "code",
   "execution_count": 94,
   "metadata": {},
   "outputs": [],
   "source": [
    "def funcion1():\n",
    "    print(\"diosito\")\n",
    "    return"
   ]
  },
  {
   "cell_type": "code",
   "execution_count": 96,
   "metadata": {},
   "outputs": [
    {
     "name": "stdout",
     "output_type": "stream",
     "text": [
      "diosito\n"
     ]
    }
   ],
   "source": [
    "funcion1()"
   ]
  },
  {
   "cell_type": "code",
   "execution_count": 100,
   "metadata": {},
   "outputs": [],
   "source": [
    "def funcion2(x,y):\n",
    "    r=x*y\n",
    "    print(r)\n",
    "    return r"
   ]
  },
  {
   "cell_type": "code",
   "execution_count": 102,
   "metadata": {},
   "outputs": [
    {
     "name": "stdout",
     "output_type": "stream",
     "text": [
      "[25.         22.53205128 20.19230769 17.98076923 15.8974359  13.94230769\n",
      " 12.11538462 10.41666667  8.84615385  7.40384615  6.08974359  4.90384615\n",
      "  3.84615385  2.91666667  2.11538462  1.44230769  0.8974359   0.48076923\n",
      "  0.19230769  0.03205128  0.          0.09615385  0.32051282  0.67307692\n",
      "  1.15384615  1.76282051  2.5         3.36538462  4.35897436  5.48076923\n",
      "  6.73076923  8.10897436  9.61538462 11.25       13.01282051 14.90384615\n",
      " 16.92307692 19.07051282 21.34615385 23.75      ]\n"
     ]
    }
   ],
   "source": [
    "r=funcion2(x2,y)"
   ]
  },
  {
   "cell_type": "code",
   "execution_count": 103,
   "metadata": {},
   "outputs": [
    {
     "name": "stdout",
     "output_type": "stream",
     "text": [
      "[25.         22.53205128 20.19230769 17.98076923 15.8974359  13.94230769\n",
      " 12.11538462 10.41666667  8.84615385  7.40384615  6.08974359  4.90384615\n",
      "  3.84615385  2.91666667  2.11538462  1.44230769  0.8974359   0.48076923\n",
      "  0.19230769  0.03205128  0.          0.09615385  0.32051282  0.67307692\n",
      "  1.15384615  1.76282051  2.5         3.36538462  4.35897436  5.48076923\n",
      "  6.73076923  8.10897436  9.61538462 11.25       13.01282051 14.90384615\n",
      " 16.92307692 19.07051282 21.34615385 23.75      ]\n"
     ]
    }
   ],
   "source": [
    "print(r)"
   ]
  },
  {
   "cell_type": "code",
   "execution_count": 104,
   "metadata": {},
   "outputs": [],
   "source": [
    "#gráficas"
   ]
  },
  {
   "cell_type": "code",
   "execution_count": 105,
   "metadata": {},
   "outputs": [],
   "source": [
    "plt?"
   ]
  },
  {
   "cell_type": "code",
   "execution_count": 127,
   "metadata": {},
   "outputs": [
    {
     "data": {
      "image/png": "[encoded data removed]",
      "text/plain": [
       "<Figure size 720x576 with 1 Axes>"
      ]
     },
     "metadata": {},
     "output_type": "display_data"
    }
   ],
   "source": [
    "plt.figure(figsize=(10,8))\n",
    "plt.plot(cos(y),2*sin(y),\"r--\",label=r\"circunferencia\")\n",
    "plt.plot(4*cos(y),2*sin(y),\"b--\",label=r\"circunferencia\")\n",
    "plt.xlabel(\"X\")\n",
    "plt.xlabel(\"Y\")\n",
    "plt.title(\"figura1\")\n",
    "plt.legend()\n",
    "plt.savefig(\"hola.png\")\n"
   ]
  },
  {
   "cell_type": "code",
   "execution_count": 129,
   "metadata": {},
   "outputs": [],
   "source": [
    "plt.hist?"
   ]
  },
  {
   "cell_type": "code",
   "execution_count": null,
   "metadata": {},
   "outputs": [],
   "source": []
  }
 ],
 "metadata": {
  "kernelspec": {
   "display_name": "Python 3",
   "language": "python",
   "name": "python3"
  },
  "language_info": {
   "codemirror_mode": {
    "name": "ipython",
    "version": 3
   },
   "file_extension": ".py",
   "mimetype": "text/x-python",
   "name": "python",
   "nbconvert_exporter": "python",
   "pygments_lexer": "ipython3",
   "version": "3.7.4"
  }
 },
 "nbformat": 4,
 "nbformat_minor": 2
}
