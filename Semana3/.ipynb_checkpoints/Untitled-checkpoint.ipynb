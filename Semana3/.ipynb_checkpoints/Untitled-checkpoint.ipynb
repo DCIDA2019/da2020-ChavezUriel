{
 "cells": [
  {
   "cell_type": "markdown",
   "metadata": {},
   "source": [
    "# Datos\n",
    "Cuando se habla de hacer estadística podemos hablar de un procedimiento general.\n",
    "* Clasificación, organización.\n",
    "* Representación.\n",
    "* Análisis.\n",
    "* Interpretación.\n",
    "* Inferencia.\n",
    "\n",
    "\n",
    "# Estadística\n",
    "En general nos sirve para:\n",
    "* Inferir algo a partir de datos.\n",
    "* Poner a prueba hipótesis.\n",
    "* Seleccionar un modelo o tomar decisiones.\n",
    "\n",
    "## Los dos tipos de estadística\n",
    "* Descriptiva. Se calculan cantidades representativas de los datos obtenidos.\n",
    "* Inferencial. Analiza el origen o la causa de los resultados de la estadística descriptiva.\n",
    "\n",
    "\n",
    "\n",
    "# Tipos de datos\n",
    "\n",
    "\n",
    "## Categóricos \n",
    "Ordinales. Tienen un orden.\n",
    "\n",
    "Nominales. Solo etiquetan.\n",
    "\n",
    "\n",
    "## Numéricas\n",
    "* Discretos. Números contables normalmente no medibles.\n",
    "\n",
    "* Contínuos. Números reales medibles.\n",
    "\n",
    "* Intervalos y proporciones. Mediante estas herramientas se puede ir de datos discretos a contínuos.\n",
    "\n",
    "\n",
    "\n",
    "# Función de la probabilidad en el análisis de datos\n",
    "Puede ser el resultado de la estadística inferencia. Mide el grado de credibilidad de que algo ocurra. Ya que siempre los datos tienen error estadístico y sistemático, no es sensato hacer conclusiones deterministas.\n",
    "\n",
    "Revisar marginalización\n",
    "\n",
    "## Distribuciones de probabilidad\n",
    "\n",
    "* Uniforme todos los eventos tienen la misma probabilidad de ocurir\n",
    "* Normal o Gaussiana\n"
   ]
  },
  {
   "cell_type": "code",
   "execution_count": null,
   "metadata": {},
   "outputs": [],
   "source": []
  }
 ],
 "metadata": {
  "kernelspec": {
   "display_name": "Python 3",
   "language": "python",
   "name": "python3"
  },
  "language_info": {
   "codemirror_mode": {
    "name": "ipython",
    "version": 3
   },
   "file_extension": ".py",
   "mimetype": "text/x-python",
   "name": "python",
   "nbconvert_exporter": "python",
   "pygments_lexer": "ipython3",
   "version": "3.7.5"
  }
 },
 "nbformat": 4,
 "nbformat_minor": 2
}
