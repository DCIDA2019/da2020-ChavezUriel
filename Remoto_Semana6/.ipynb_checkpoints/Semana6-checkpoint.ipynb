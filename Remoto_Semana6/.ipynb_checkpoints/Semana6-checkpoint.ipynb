{
 "cells": [
  {
   "cell_type": "code",
   "execution_count": 1,
   "metadata": {},
   "outputs": [],
   "source": [
    "import numpy as np\n",
    "import matplotlib.pyplot as plt"
   ]
  },
  {
   "cell_type": "code",
   "execution_count": 186,
   "metadata": {},
   "outputs": [],
   "source": [
    "def cubo(puntos,dim,lado):\n",
    "    '''\n",
    "    Genera puntos con coordenadas de la dimension que se indique dentro de un cubo de lado que se indique \n",
    "    puntos: Cantidad de puntos que se quieren generar\n",
    "    lado: tamaño del lado del cubo\n",
    "    dim: número de dimensiones del cubo\n",
    "    '''\n",
    "    caja=np.random.uniform(0,lado,size=(puntos,dim))\n",
    "    return caja\n",
    "\n",
    "def dist(p1,p2):\n",
    "    '''\n",
    "    Calcula la distancia mediante el teorema de pitágoras entre los puntos p1 y p2.\n",
    "    Acepta puntos cualquier dimensión.\n",
    "    '''\n",
    "    suma=0\n",
    "    for i in range(len(p1)):\n",
    "        suma+=(p1[i]-p2[i])**2\n",
    "    return np.sqrt(suma)\n",
    "\n",
    "def distpuntos(puntos,dist):\n",
    "    '''\n",
    "    Calcula todas las distancias entre el conjunto de puntos \"puntos\" con la función dist.\n",
    "    La función dist debe ser compatible con el tipo de puntos.\n",
    "    '''\n",
    "    r=[]\n",
    "    for i in range(len(puntos)):\n",
    "        for j in range(len(puntos)):\n",
    "            if(j>i):\n",
    "                r.append(dist(puntos[i],puntos[j]))\n",
    "    return r\n",
    "\n",
    "def ksi(puntos,dist,bins=50):\n",
    "    '''\n",
    "    Calcula la función ksi(r) de un conjunto de puntos dada una función de distancia dist.\n",
    "    Las coordenadas de los puntos no pueden ser negativas, deben desplazarse hacia números positivos para\n",
    "    servir en esta función.\n",
    "    Por default divide en 50 intervalos el rango entre 0 y la máxima distancia en un cubo que encierre a todos\n",
    "    los puntos.\n",
    "    '''\n",
    "    dim=len(puntos[0])\n",
    "    l=np.max(puntos)\n",
    "    puntosu=cubo(len(puntos),dim,l)\n",
    "\n",
    "    maxdist=np.sqrt(dim*l**2)\n",
    "\n",
    "    dp=distpuntos(puntos,dist)\n",
    "    du=distpuntos(puntosu,dist)\n",
    "\n",
    "    a=plt.hist(dp,bins=bins,range=(0,maxdist))\n",
    "    b=plt.hist(du,bins=bins,range=(0,maxdist))\n",
    "    plt.clf()\n",
    "    \n",
    "    centros=np.zeros(len(a[1])-1)\n",
    "    for i in range(len(a[1])-1):\n",
    "        centros[i]=(a[1][i]+a[1][i+1])/2\n",
    "\n",
    "    ksi=(a[0]/b[0]-1,centros)\n",
    "    return ksi\n",
    "\n",
    "def ksils(puntos,dist,bins=50):\n",
    "    '''\n",
    "    Calcula la función ksi(r) de Landy-Szalay de un conjunto de puntos dada una función de distancia dist.\n",
    "    Las coordenadas de los puntos no pueden ser negativas, deben desplazarse hacia números positivos para\n",
    "    servir en esta función.\n",
    "    Por default divide en 50 intervalos el rango entre 0 y la máxima distancia en un cubo que encierre a todos\n",
    "    los puntos.\n",
    "    '''\n",
    "    dim=len(puntos[0])\n",
    "    l=np.max(puntos)\n",
    "    puntosu=cubo(len(puntos),dim,l)\n",
    "    puntoscomb=np.append(puntos,puntosu,axis=0)\n",
    "    maxdist=np.sqrt(dim*l**2)\n",
    "\n",
    "    dp=distpuntos(puntos,dist)\n",
    "    du=distpuntos(puntosu,dist)\n",
    "    dc=distpuntos(puntoscomb,dist)\n",
    "    \n",
    "    a=plt.hist(dp,bins=bins,range=(0,maxdist))\n",
    "    b=plt.hist(du,bins=bins,range=(0,maxdist))\n",
    "    c=plt.hist(dc,bins=bins,range=(0,maxdist))\n",
    "    plt.clf()\n",
    "    \n",
    "    centros=np.zeros(len(a[1])-1)\n",
    "    for i in range(len(a[1])-1):\n",
    "        centros[i]=(a[1][i]+a[1][i+1])/2\n",
    "\n",
    "    ksi=((1/len(dp)*a[0]+1/len(du)*b[0]-2*1/len(dc)*c[0])/(1/len(du)*b[0]),centros)\n",
    "    return ksi"
   ]
  },
  {
   "cell_type": "code",
   "execution_count": 187,
   "metadata": {},
   "outputs": [
    {
     "name": "stderr",
     "output_type": "stream",
     "text": [
      "/home/uriel/miniconda3/lib/python3.7/site-packages/ipykernel_launcher.py:58: RuntimeWarning: invalid value encountered in true_divide\n",
      "/home/uriel/miniconda3/lib/python3.7/site-packages/ipykernel_launcher.py:88: RuntimeWarning: divide by zero encountered in true_divide\n",
      "/home/uriel/miniconda3/lib/python3.7/site-packages/ipykernel_launcher.py:88: RuntimeWarning: invalid value encountered in true_divide\n"
     ]
    },
    {
     "data": {
      "text/plain": [
       "<Figure size 432x288 with 0 Axes>"
      ]
     },
     "metadata": {},
     "output_type": "display_data"
    }
   ],
   "source": [
    "puntos=cubo(100,3,10)\n",
    "\n",
    "Ksi1=ksi(puntos,dist)\n",
    "Ksi2=ksils(puntos,dist)"
   ]
  },
  {
   "cell_type": "code",
   "execution_count": 188,
   "metadata": {
    "scrolled": true
   },
   "outputs": [
    {
     "data": {
      "text/plain": [
       "[<matplotlib.lines.Line2D at 0x7fcd34dd2650>]"
      ]
     },
     "execution_count": 188,
     "metadata": {},
     "output_type": "execute_result"
    },
    {
     "data": {
      "image/png": "[encoded data removed]",
      "text/plain": [
       "<Figure size 432x288 with 1 Axes>"
      ]
     },
     "metadata": {
      "needs_background": "light"
     },
     "output_type": "display_data"
    }
   ],
   "source": [
    "plt.plot(Ksi1[1],Ksi1[0])"
   ]
  },
  {
   "cell_type": "code",
   "execution_count": 189,
   "metadata": {},
   "outputs": [
    {
     "data": {
      "text/plain": [
       "[<matplotlib.lines.Line2D at 0x7fcd377fc8d0>]"
      ]
     },
     "execution_count": 189,
     "metadata": {},
     "output_type": "execute_result"
    },
    {
     "data": {
      "image/png": "[encoded data removed]",
      "text/plain": [
       "<Figure size 432x288 with 1 Axes>"
      ]
     },
     "metadata": {
      "needs_background": "light"
     },
     "output_type": "display_data"
    }
   ],
   "source": [
    "plt.plot(Ksi2[1],Ksi2[0])"
   ]
  },
  {
   "cell_type": "code",
   "execution_count": null,
   "metadata": {},
   "outputs": [],
   "source": []
  },
  {
   "cell_type": "code",
   "execution_count": null,
   "metadata": {},
   "outputs": [],
   "source": []
  }
 ],
 "metadata": {
  "kernelspec": {
   "display_name": "Python 3",
   "language": "python",
   "name": "python3"
  },
  "language_info": {
   "codemirror_mode": {
    "name": "ipython",
    "version": 3
   },
   "file_extension": ".py",
   "mimetype": "text/x-python",
   "name": "python",
   "nbconvert_exporter": "python",
   "pygments_lexer": "ipython3",
   "version": "3.7.4"
  }
 },
 "nbformat": 4,
 "nbformat_minor": 4
}
